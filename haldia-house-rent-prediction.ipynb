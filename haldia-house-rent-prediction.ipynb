{
 "cells": [
  {
   "cell_type": "code",
   "execution_count": 7,
   "metadata": {
    "_cell_guid": "b1076dfc-b9ad-4769-8c92-a6c4dae69d19",
    "_uuid": "8f2839f25d086af736a60e9eeb907d3b93b6e0e5",
    "execution": {
     "iopub.execute_input": "2022-05-18T19:04:38.675237Z",
     "iopub.status.busy": "2022-05-18T19:04:38.674698Z",
     "iopub.status.idle": "2022-05-18T19:04:38.681716Z",
     "shell.execute_reply": "2022-05-18T19:04:38.680996Z",
     "shell.execute_reply.started": "2022-05-18T19:04:38.675188Z"
    }
   },
   "outputs": [],
   "source": [
    "# This Python 3 environment comes with many helpful analytics libraries installed\n",
    "# It is defined by the kaggle/python Docker image: https://github.com/kaggle/docker-python\n",
    "# For example, here's several helpful packages to load\n",
    "\n",
    "import numpy as np # linear algebra\n",
    "import pandas as pd # data processing, CSV file I/O (e.g. pd.read_csv)\n",
    "\n",
    "# Input data files are available in the read-only \"../input/\" directory\n",
    "# For example, running this (by clicking run or pressing Shift+Enter) will list all files under the input directory\n",
    "\n",
    "import os\n",
    "for dirname, _, filenames in os.walk('/kaggle/input'):\n",
    "    for filename in filenames:\n",
    "        print(os.path.join(dirname, filename))\n",
    "\n",
    "# You can write up to 20GB to the current directory (/kaggle/working/) that gets preserved as output when you create a version using \"Save & Run All\" \n",
    "# You can also write temporary files to /kaggle/temp/, but they won't be saved outside of the current session"
   ]
  },
  {
   "cell_type": "code",
   "execution_count": 8,
   "metadata": {
    "execution": {
     "iopub.execute_input": "2022-05-18T19:02:32.435495Z",
     "iopub.status.busy": "2022-05-18T19:02:32.435046Z",
     "iopub.status.idle": "2022-05-18T19:02:32.442210Z",
     "shell.execute_reply": "2022-05-18T19:02:32.441335Z",
     "shell.execute_reply.started": "2022-05-18T19:02:32.435463Z"
    }
   },
   "outputs": [],
   "source": [
    "import seaborn as sn\n",
    "import matplotlib.pyplot as plt\n",
    "from sklearn.metrics import r2_score\n",
    "from sklearn.metrics import mean_squared_error\n",
    "from sklearn.linear_model import LinearRegression\n",
    "from sklearn.model_selection import cross_val_score\n",
    "from sklearn.ensemble import AdaBoostRegressor\n",
    "from sklearn.ensemble import GradientBoostingRegressor\n",
    "from xgboost import XGBRegressor\n",
    "from sklearn.model_selection import train_test_split\n",
    "from sklearn.ensemble import RandomForestRegressor\n"
   ]
  },
  {
   "cell_type": "code",
   "execution_count": 9,
   "metadata": {
    "execution": {
     "iopub.execute_input": "2022-05-18T19:02:33.944352Z",
     "iopub.status.busy": "2022-05-18T19:02:33.944069Z",
     "iopub.status.idle": "2022-05-18T19:02:33.974151Z",
     "shell.execute_reply": "2022-05-18T19:02:33.971921Z",
     "shell.execute_reply.started": "2022-05-18T19:02:33.944319Z"
    }
   },
   "outputs": [
    {
     "data": {
      "text/html": [
       "<div>\n",
       "<style scoped>\n",
       "    .dataframe tbody tr th:only-of-type {\n",
       "        vertical-align: middle;\n",
       "    }\n",
       "\n",
       "    .dataframe tbody tr th {\n",
       "        vertical-align: top;\n",
       "    }\n",
       "\n",
       "    .dataframe thead th {\n",
       "        text-align: right;\n",
       "    }\n",
       "</style>\n",
       "<table border=\"1\" class=\"dataframe\">\n",
       "  <thead>\n",
       "    <tr style=\"text-align: right;\">\n",
       "      <th></th>\n",
       "      <th>Residence Score</th>\n",
       "      <th>Bathroom_score</th>\n",
       "      <th>Attached_Kitchen</th>\n",
       "      <th>Avl_ShoppingMall</th>\n",
       "      <th>Avl_beds</th>\n",
       "      <th>Rate_Transport</th>\n",
       "      <th>Medical_Shops</th>\n",
       "      <th>Mess_Avl</th>\n",
       "      <th>Market_time</th>\n",
       "      <th>College_time</th>\n",
       "      <th>Avl_playground</th>\n",
       "      <th>Total_rent</th>\n",
       "    </tr>\n",
       "  </thead>\n",
       "  <tbody>\n",
       "    <tr>\n",
       "      <th>0</th>\n",
       "      <td>3</td>\n",
       "      <td>4</td>\n",
       "      <td>1</td>\n",
       "      <td>0</td>\n",
       "      <td>4</td>\n",
       "      <td>4</td>\n",
       "      <td>0</td>\n",
       "      <td>3</td>\n",
       "      <td>5</td>\n",
       "      <td>10</td>\n",
       "      <td>1</td>\n",
       "      <td>6000</td>\n",
       "    </tr>\n",
       "    <tr>\n",
       "      <th>1</th>\n",
       "      <td>2</td>\n",
       "      <td>1</td>\n",
       "      <td>0</td>\n",
       "      <td>1</td>\n",
       "      <td>1</td>\n",
       "      <td>4</td>\n",
       "      <td>1</td>\n",
       "      <td>4</td>\n",
       "      <td>5</td>\n",
       "      <td>10</td>\n",
       "      <td>0</td>\n",
       "      <td>2000</td>\n",
       "    </tr>\n",
       "    <tr>\n",
       "      <th>2</th>\n",
       "      <td>2</td>\n",
       "      <td>3</td>\n",
       "      <td>0</td>\n",
       "      <td>1</td>\n",
       "      <td>1</td>\n",
       "      <td>5</td>\n",
       "      <td>1</td>\n",
       "      <td>4</td>\n",
       "      <td>5</td>\n",
       "      <td>5</td>\n",
       "      <td>1</td>\n",
       "      <td>2500</td>\n",
       "    </tr>\n",
       "    <tr>\n",
       "      <th>3</th>\n",
       "      <td>1</td>\n",
       "      <td>1</td>\n",
       "      <td>0</td>\n",
       "      <td>1</td>\n",
       "      <td>2</td>\n",
       "      <td>2</td>\n",
       "      <td>1</td>\n",
       "      <td>3</td>\n",
       "      <td>10</td>\n",
       "      <td>15</td>\n",
       "      <td>1</td>\n",
       "      <td>3000</td>\n",
       "    </tr>\n",
       "    <tr>\n",
       "      <th>4</th>\n",
       "      <td>3</td>\n",
       "      <td>4</td>\n",
       "      <td>1</td>\n",
       "      <td>1</td>\n",
       "      <td>4</td>\n",
       "      <td>4</td>\n",
       "      <td>1</td>\n",
       "      <td>4</td>\n",
       "      <td>10</td>\n",
       "      <td>5</td>\n",
       "      <td>1</td>\n",
       "      <td>6000</td>\n",
       "    </tr>\n",
       "  </tbody>\n",
       "</table>\n",
       "</div>"
      ],
      "text/plain": [
       "   Residence Score  Bathroom_score  Attached_Kitchen  Avl_ShoppingMall  \\\n",
       "0                3               4                 1                 0   \n",
       "1                2               1                 0                 1   \n",
       "2                2               3                 0                 1   \n",
       "3                1               1                 0                 1   \n",
       "4                3               4                 1                 1   \n",
       "\n",
       "   Avl_beds  Rate_Transport  Medical_Shops  Mess_Avl  Market_time  \\\n",
       "0         4               4              0         3            5   \n",
       "1         1               4              1         4            5   \n",
       "2         1               5              1         4            5   \n",
       "3         2               2              1         3           10   \n",
       "4         4               4              1         4           10   \n",
       "\n",
       "   College_time  Avl_playground Total_rent  \n",
       "0            10               1       6000  \n",
       "1            10               0       2000  \n",
       "2             5               1       2500  \n",
       "3            15               1       3000  \n",
       "4             5               1       6000  "
      ]
     },
     "execution_count": 9,
     "metadata": {},
     "output_type": "execute_result"
    }
   ],
   "source": [
    "df=pd.read_csv('F:\\VS code\\project\\project-xyz - Sheet1 (2).csv')\n",
    "df.head()"
   ]
  },
  {
   "cell_type": "code",
   "execution_count": 10,
   "metadata": {
    "execution": {
     "iopub.status.busy": "2022-05-18T18:46:05.042644Z",
     "iopub.status.idle": "2022-05-18T18:46:05.043577Z",
     "shell.execute_reply": "2022-05-18T18:46:05.043332Z",
     "shell.execute_reply.started": "2022-05-18T18:46:05.043304Z"
    }
   },
   "outputs": [
    {
     "data": {
      "text/plain": [
       "Residence Score      int64\n",
       "Bathroom_score       int64\n",
       "Attached_Kitchen     int64\n",
       "Avl_ShoppingMall     int64\n",
       "Avl_beds             int64\n",
       "Rate_Transport       int64\n",
       "Medical_Shops        int64\n",
       "Mess_Avl             int64\n",
       "Market_time          int64\n",
       "College_time         int64\n",
       "Avl_playground       int64\n",
       "Total_rent          object\n",
       "dtype: object"
      ]
     },
     "execution_count": 10,
     "metadata": {},
     "output_type": "execute_result"
    }
   ],
   "source": [
    "df.dtypes"
   ]
  },
  {
   "cell_type": "markdown",
   "metadata": {},
   "source": [
    "### as we can see here that Total_rent is object data type we have to convert it neumeric data type to fit the model"
   ]
  },
  {
   "cell_type": "code",
   "execution_count": 11,
   "metadata": {
    "execution": {
     "iopub.status.busy": "2022-05-18T18:46:05.044927Z",
     "iopub.status.idle": "2022-05-18T18:46:05.045569Z",
     "shell.execute_reply": "2022-05-18T18:46:05.045338Z",
     "shell.execute_reply.started": "2022-05-18T18:46:05.045312Z"
    }
   },
   "outputs": [],
   "source": [
    "df['Total_rent'].replace(',','',regex=True,inplace=True)"
   ]
  },
  {
   "cell_type": "code",
   "execution_count": 12,
   "metadata": {
    "execution": {
     "iopub.status.busy": "2022-05-18T18:46:05.04665Z",
     "iopub.status.idle": "2022-05-18T18:46:05.047478Z",
     "shell.execute_reply": "2022-05-18T18:46:05.047235Z",
     "shell.execute_reply.started": "2022-05-18T18:46:05.047209Z"
    }
   },
   "outputs": [
    {
     "data": {
      "text/html": [
       "<div>\n",
       "<style scoped>\n",
       "    .dataframe tbody tr th:only-of-type {\n",
       "        vertical-align: middle;\n",
       "    }\n",
       "\n",
       "    .dataframe tbody tr th {\n",
       "        vertical-align: top;\n",
       "    }\n",
       "\n",
       "    .dataframe thead th {\n",
       "        text-align: right;\n",
       "    }\n",
       "</style>\n",
       "<table border=\"1\" class=\"dataframe\">\n",
       "  <thead>\n",
       "    <tr style=\"text-align: right;\">\n",
       "      <th></th>\n",
       "      <th>Residence Score</th>\n",
       "      <th>Bathroom_score</th>\n",
       "      <th>Attached_Kitchen</th>\n",
       "      <th>Avl_ShoppingMall</th>\n",
       "      <th>Avl_beds</th>\n",
       "      <th>Rate_Transport</th>\n",
       "      <th>Medical_Shops</th>\n",
       "      <th>Mess_Avl</th>\n",
       "      <th>Market_time</th>\n",
       "      <th>College_time</th>\n",
       "      <th>Avl_playground</th>\n",
       "      <th>Total_rent</th>\n",
       "    </tr>\n",
       "  </thead>\n",
       "  <tbody>\n",
       "    <tr>\n",
       "      <th>1</th>\n",
       "      <td>2</td>\n",
       "      <td>1</td>\n",
       "      <td>0</td>\n",
       "      <td>1</td>\n",
       "      <td>1</td>\n",
       "      <td>4</td>\n",
       "      <td>1</td>\n",
       "      <td>4</td>\n",
       "      <td>5</td>\n",
       "      <td>10</td>\n",
       "      <td>0</td>\n",
       "      <td>2000</td>\n",
       "    </tr>\n",
       "    <tr>\n",
       "      <th>2</th>\n",
       "      <td>2</td>\n",
       "      <td>3</td>\n",
       "      <td>0</td>\n",
       "      <td>1</td>\n",
       "      <td>1</td>\n",
       "      <td>5</td>\n",
       "      <td>1</td>\n",
       "      <td>4</td>\n",
       "      <td>5</td>\n",
       "      <td>5</td>\n",
       "      <td>1</td>\n",
       "      <td>2500</td>\n",
       "    </tr>\n",
       "    <tr>\n",
       "      <th>4</th>\n",
       "      <td>3</td>\n",
       "      <td>4</td>\n",
       "      <td>1</td>\n",
       "      <td>1</td>\n",
       "      <td>4</td>\n",
       "      <td>4</td>\n",
       "      <td>1</td>\n",
       "      <td>4</td>\n",
       "      <td>10</td>\n",
       "      <td>5</td>\n",
       "      <td>1</td>\n",
       "      <td>6000</td>\n",
       "    </tr>\n",
       "  </tbody>\n",
       "</table>\n",
       "</div>"
      ],
      "text/plain": [
       "   Residence Score  Bathroom_score  Attached_Kitchen  Avl_ShoppingMall  \\\n",
       "1                2               1                 0                 1   \n",
       "2                2               3                 0                 1   \n",
       "4                3               4                 1                 1   \n",
       "\n",
       "   Avl_beds  Rate_Transport  Medical_Shops  Mess_Avl  Market_time  \\\n",
       "1         1               4              1         4            5   \n",
       "2         1               5              1         4            5   \n",
       "4         4               4              1         4           10   \n",
       "\n",
       "   College_time  Avl_playground Total_rent  \n",
       "1            10               0       2000  \n",
       "2             5               1       2500  \n",
       "4             5               1       6000  "
      ]
     },
     "execution_count": 12,
     "metadata": {},
     "output_type": "execute_result"
    }
   ],
   "source": [
    "df.loc[[1,2,4]]"
   ]
  },
  {
   "cell_type": "code",
   "execution_count": 13,
   "metadata": {
    "execution": {
     "iopub.status.busy": "2022-05-18T18:46:05.048689Z",
     "iopub.status.idle": "2022-05-18T18:46:05.049327Z",
     "shell.execute_reply": "2022-05-18T18:46:05.049087Z",
     "shell.execute_reply.started": "2022-05-18T18:46:05.049062Z"
    }
   },
   "outputs": [
    {
     "data": {
      "text/plain": [
       "Residence Score      int64\n",
       "Bathroom_score       int64\n",
       "Attached_Kitchen     int64\n",
       "Avl_ShoppingMall     int64\n",
       "Avl_beds             int64\n",
       "Rate_Transport       int64\n",
       "Medical_Shops        int64\n",
       "Mess_Avl             int64\n",
       "Market_time          int64\n",
       "College_time         int64\n",
       "Avl_playground       int64\n",
       "Total_rent          object\n",
       "dtype: object"
      ]
     },
     "execution_count": 13,
     "metadata": {},
     "output_type": "execute_result"
    }
   ],
   "source": [
    "df.dtypes"
   ]
  },
  {
   "cell_type": "markdown",
   "metadata": {},
   "source": [
    "### Now we can see that Total_rent data type has not changed yet so we are going to convert it neumeric"
   ]
  },
  {
   "cell_type": "code",
   "execution_count": 14,
   "metadata": {
    "execution": {
     "iopub.status.busy": "2022-05-18T18:46:05.050528Z",
     "iopub.status.idle": "2022-05-18T18:46:05.051164Z",
     "shell.execute_reply": "2022-05-18T18:46:05.050902Z",
     "shell.execute_reply.started": "2022-05-18T18:46:05.050877Z"
    }
   },
   "outputs": [],
   "source": [
    "df['Total_rent']=pd.to_numeric(df['Total_rent'])"
   ]
  },
  {
   "cell_type": "code",
   "execution_count": 15,
   "metadata": {
    "execution": {
     "iopub.status.busy": "2022-05-18T18:46:05.052214Z",
     "iopub.status.idle": "2022-05-18T18:46:05.052992Z",
     "shell.execute_reply": "2022-05-18T18:46:05.05278Z",
     "shell.execute_reply.started": "2022-05-18T18:46:05.052756Z"
    }
   },
   "outputs": [
    {
     "data": {
      "text/plain": [
       "Residence Score     int64\n",
       "Bathroom_score      int64\n",
       "Attached_Kitchen    int64\n",
       "Avl_ShoppingMall    int64\n",
       "Avl_beds            int64\n",
       "Rate_Transport      int64\n",
       "Medical_Shops       int64\n",
       "Mess_Avl            int64\n",
       "Market_time         int64\n",
       "College_time        int64\n",
       "Avl_playground      int64\n",
       "Total_rent          int64\n",
       "dtype: object"
      ]
     },
     "execution_count": 15,
     "metadata": {},
     "output_type": "execute_result"
    }
   ],
   "source": [
    "df.dtypes"
   ]
  },
  {
   "cell_type": "markdown",
   "metadata": {},
   "source": [
    "As all the datas are neumeric format we are good to go with our model"
   ]
  },
  {
   "cell_type": "markdown",
   "metadata": {},
   "source": [
    " ####                                                    Data Viz"
   ]
  },
  {
   "cell_type": "code",
   "execution_count": 16,
   "metadata": {
    "execution": {
     "iopub.execute_input": "2022-05-18T18:46:05.220225Z",
     "iopub.status.busy": "2022-05-18T18:46:05.21966Z",
     "iopub.status.idle": "2022-05-18T18:46:05.236559Z",
     "shell.execute_reply": "2022-05-18T18:46:05.23546Z",
     "shell.execute_reply.started": "2022-05-18T18:46:05.220185Z"
    }
   },
   "outputs": [
    {
     "data": {
      "text/plain": [
       "<seaborn.axisgrid.JointGrid at 0x217bf8c6ee0>"
      ]
     },
     "execution_count": 16,
     "metadata": {},
     "output_type": "execute_result"
    },
    {
     "data": {
      "image/png": "[encoded data removed]",
      "text/plain": [
       "<Figure size 432x432 with 3 Axes>"
      ]
     },
     "metadata": {
      "needs_background": "light"
     },
     "output_type": "display_data"
    }
   ],
   "source": [
    "sn.jointplot(x='Residence Score',y='Total_rent',data=df,kind='reg')"
   ]
  },
  {
   "cell_type": "code",
   "execution_count": 17,
   "metadata": {
    "execution": {
     "iopub.status.busy": "2022-05-18T18:46:05.237529Z",
     "iopub.status.idle": "2022-05-18T18:46:05.238066Z",
     "shell.execute_reply": "2022-05-18T18:46:05.23788Z",
     "shell.execute_reply.started": "2022-05-18T18:46:05.237861Z"
    }
   },
   "outputs": [
    {
     "data": {
      "text/plain": [
       "<seaborn.axisgrid.JointGrid at 0x217c19b4220>"
      ]
     },
     "execution_count": 17,
     "metadata": {},
     "output_type": "execute_result"
    },
    {
     "data": {
      "image/png": "[encoded data removed]",
      "text/plain": [
       "<Figure size 432x432 with 3 Axes>"
      ]
     },
     "metadata": {
      "needs_background": "light"
     },
     "output_type": "display_data"
    }
   ],
   "source": [
    "sn.jointplot(x='Bathroom_score',y='Total_rent',data=df,kind='reg',color='orange')"
   ]
  },
  {
   "cell_type": "code",
   "execution_count": 18,
   "metadata": {
    "execution": {
     "iopub.status.busy": "2022-05-18T18:46:05.239272Z",
     "iopub.status.idle": "2022-05-18T18:46:05.240019Z",
     "shell.execute_reply": "2022-05-18T18:46:05.239827Z",
     "shell.execute_reply.started": "2022-05-18T18:46:05.239799Z"
    }
   },
   "outputs": [
    {
     "data": {
      "text/plain": [
       "<seaborn.axisgrid.JointGrid at 0x217c5008040>"
      ]
     },
     "execution_count": 18,
     "metadata": {},
     "output_type": "execute_result"
    },
    {
     "data": {
      "image/png": "[encoded data removed]",
      "text/plain": [
       "<Figure size 432x432 with 3 Axes>"
      ]
     },
     "metadata": {
      "needs_background": "light"
     },
     "output_type": "display_data"
    }
   ],
   "source": [
    "sn.jointplot(x='Bathroom_score',y='Total_rent',data=df,kind='reg',color='orange')"
   ]
  },
  {
   "cell_type": "code",
   "execution_count": 19,
   "metadata": {
    "execution": {
     "iopub.status.busy": "2022-05-18T18:46:05.241056Z",
     "iopub.status.idle": "2022-05-18T18:46:05.241575Z",
     "shell.execute_reply": "2022-05-18T18:46:05.241416Z",
     "shell.execute_reply.started": "2022-05-18T18:46:05.241389Z"
    }
   },
   "outputs": [
    {
     "data": {
      "text/plain": [
       "<seaborn.axisgrid.JointGrid at 0x217c511dc40>"
      ]
     },
     "execution_count": 19,
     "metadata": {},
     "output_type": "execute_result"
    },
    {
     "data": {
      "image/png": "[encoded data removed]",
      "text/plain": [
       "<Figure size 432x432 with 3 Axes>"
      ]
     },
     "metadata": {
      "needs_background": "light"
     },
     "output_type": "display_data"
    }
   ],
   "source": [
    "sn.jointplot(x='Market_time',y='Total_rent',data=df,kind='reg',color='orange')"
   ]
  },
  {
   "cell_type": "code",
   "execution_count": 20,
   "metadata": {
    "execution": {
     "iopub.status.busy": "2022-05-18T18:46:05.242548Z",
     "iopub.status.idle": "2022-05-18T18:46:05.243079Z",
     "shell.execute_reply": "2022-05-18T18:46:05.242887Z",
     "shell.execute_reply.started": "2022-05-18T18:46:05.242861Z"
    }
   },
   "outputs": [
    {
     "data": {
      "text/plain": [
       "<seaborn.axisgrid.JointGrid at 0x217c526e3d0>"
      ]
     },
     "execution_count": 20,
     "metadata": {},
     "output_type": "execute_result"
    },
    {
     "data": {
      "image/png": "[encoded data removed]",
      "text/plain": [
       "<Figure size 432x432 with 3 Axes>"
      ]
     },
     "metadata": {
      "needs_background": "light"
     },
     "output_type": "display_data"
    }
   ],
   "source": [
    "sn.jointplot(x='College_time',y='Total_rent',data=df,kind='reg',color='orange')\n"
   ]
  },
  {
   "cell_type": "code",
   "execution_count": 21,
   "metadata": {
    "execution": {
     "iopub.status.busy": "2022-05-18T18:46:05.24406Z",
     "iopub.status.idle": "2022-05-18T18:46:05.244568Z",
     "shell.execute_reply": "2022-05-18T18:46:05.244409Z",
     "shell.execute_reply.started": "2022-05-18T18:46:05.244382Z"
    }
   },
   "outputs": [
    {
     "data": {
      "text/plain": [
       "<seaborn.axisgrid.JointGrid at 0x217c53387c0>"
      ]
     },
     "execution_count": 21,
     "metadata": {},
     "output_type": "execute_result"
    },
    {
     "data": {
      "image/png": "[encoded data removed]",
      "text/plain": [
       "<Figure size 432x432 with 3 Axes>"
      ]
     },
     "metadata": {
      "needs_background": "light"
     },
     "output_type": "display_data"
    }
   ],
   "source": [
    "sn.jointplot(x='Medical_Shops',y='Total_rent',data=df,kind='reg')"
   ]
  },
  {
   "cell_type": "code",
   "execution_count": 22,
   "metadata": {
    "execution": {
     "iopub.status.busy": "2022-05-18T18:46:05.245521Z",
     "iopub.status.idle": "2022-05-18T18:46:05.246051Z",
     "shell.execute_reply": "2022-05-18T18:46:05.245856Z",
     "shell.execute_reply.started": "2022-05-18T18:46:05.245829Z"
    }
   },
   "outputs": [
    {
     "data": {
      "text/html": [
       "<div>\n",
       "<style scoped>\n",
       "    .dataframe tbody tr th:only-of-type {\n",
       "        vertical-align: middle;\n",
       "    }\n",
       "\n",
       "    .dataframe tbody tr th {\n",
       "        vertical-align: top;\n",
       "    }\n",
       "\n",
       "    .dataframe thead th {\n",
       "        text-align: right;\n",
       "    }\n",
       "</style>\n",
       "<table border=\"1\" class=\"dataframe\">\n",
       "  <thead>\n",
       "    <tr style=\"text-align: right;\">\n",
       "      <th></th>\n",
       "      <th>Residence Score</th>\n",
       "      <th>Bathroom_score</th>\n",
       "      <th>Attached_Kitchen</th>\n",
       "      <th>Avl_ShoppingMall</th>\n",
       "      <th>Avl_beds</th>\n",
       "      <th>Rate_Transport</th>\n",
       "      <th>Medical_Shops</th>\n",
       "      <th>Mess_Avl</th>\n",
       "      <th>Market_time</th>\n",
       "      <th>College_time</th>\n",
       "      <th>Avl_playground</th>\n",
       "      <th>Total_rent</th>\n",
       "    </tr>\n",
       "  </thead>\n",
       "  <tbody>\n",
       "    <tr>\n",
       "      <th>Residence Score</th>\n",
       "      <td>1.000000</td>\n",
       "      <td>0.873785</td>\n",
       "      <td>0.261145</td>\n",
       "      <td>-0.014689</td>\n",
       "      <td>0.809383</td>\n",
       "      <td>-0.143336</td>\n",
       "      <td>-0.152374</td>\n",
       "      <td>-0.246081</td>\n",
       "      <td>0.017539</td>\n",
       "      <td>0.083148</td>\n",
       "      <td>0.344883</td>\n",
       "      <td>0.751492</td>\n",
       "    </tr>\n",
       "    <tr>\n",
       "      <th>Bathroom_score</th>\n",
       "      <td>0.873785</td>\n",
       "      <td>1.000000</td>\n",
       "      <td>0.396308</td>\n",
       "      <td>0.020434</td>\n",
       "      <td>0.830659</td>\n",
       "      <td>-0.042793</td>\n",
       "      <td>-0.181056</td>\n",
       "      <td>-0.231137</td>\n",
       "      <td>-0.065482</td>\n",
       "      <td>0.020416</td>\n",
       "      <td>0.305170</td>\n",
       "      <td>0.782882</td>\n",
       "    </tr>\n",
       "    <tr>\n",
       "      <th>Attached_Kitchen</th>\n",
       "      <td>0.261145</td>\n",
       "      <td>0.396308</td>\n",
       "      <td>1.000000</td>\n",
       "      <td>-0.069410</td>\n",
       "      <td>0.280982</td>\n",
       "      <td>0.106454</td>\n",
       "      <td>0.170001</td>\n",
       "      <td>0.165091</td>\n",
       "      <td>-0.352504</td>\n",
       "      <td>0.189642</td>\n",
       "      <td>0.098176</td>\n",
       "      <td>0.318835</td>\n",
       "    </tr>\n",
       "    <tr>\n",
       "      <th>Avl_ShoppingMall</th>\n",
       "      <td>-0.014689</td>\n",
       "      <td>0.020434</td>\n",
       "      <td>-0.069410</td>\n",
       "      <td>1.000000</td>\n",
       "      <td>0.084412</td>\n",
       "      <td>0.136555</td>\n",
       "      <td>-0.060737</td>\n",
       "      <td>-0.099793</td>\n",
       "      <td>0.040064</td>\n",
       "      <td>-0.211170</td>\n",
       "      <td>0.066562</td>\n",
       "      <td>0.053153</td>\n",
       "    </tr>\n",
       "    <tr>\n",
       "      <th>Avl_beds</th>\n",
       "      <td>0.809383</td>\n",
       "      <td>0.830659</td>\n",
       "      <td>0.280982</td>\n",
       "      <td>0.084412</td>\n",
       "      <td>1.000000</td>\n",
       "      <td>-0.084038</td>\n",
       "      <td>-0.196082</td>\n",
       "      <td>-0.243645</td>\n",
       "      <td>0.076357</td>\n",
       "      <td>0.007240</td>\n",
       "      <td>0.167080</td>\n",
       "      <td>0.845583</td>\n",
       "    </tr>\n",
       "    <tr>\n",
       "      <th>Rate_Transport</th>\n",
       "      <td>-0.143336</td>\n",
       "      <td>-0.042793</td>\n",
       "      <td>0.106454</td>\n",
       "      <td>0.136555</td>\n",
       "      <td>-0.084038</td>\n",
       "      <td>1.000000</td>\n",
       "      <td>0.250952</td>\n",
       "      <td>0.178156</td>\n",
       "      <td>-0.563971</td>\n",
       "      <td>-0.740107</td>\n",
       "      <td>-0.050229</td>\n",
       "      <td>-0.095919</td>\n",
       "    </tr>\n",
       "    <tr>\n",
       "      <th>Medical_Shops</th>\n",
       "      <td>-0.152374</td>\n",
       "      <td>-0.181056</td>\n",
       "      <td>0.170001</td>\n",
       "      <td>-0.060737</td>\n",
       "      <td>-0.196082</td>\n",
       "      <td>0.250952</td>\n",
       "      <td>1.000000</td>\n",
       "      <td>0.500336</td>\n",
       "      <td>-0.220975</td>\n",
       "      <td>-0.058010</td>\n",
       "      <td>-0.182424</td>\n",
       "      <td>-0.224010</td>\n",
       "    </tr>\n",
       "    <tr>\n",
       "      <th>Mess_Avl</th>\n",
       "      <td>-0.246081</td>\n",
       "      <td>-0.231137</td>\n",
       "      <td>0.165091</td>\n",
       "      <td>-0.099793</td>\n",
       "      <td>-0.243645</td>\n",
       "      <td>0.178156</td>\n",
       "      <td>0.500336</td>\n",
       "      <td>1.000000</td>\n",
       "      <td>-0.121860</td>\n",
       "      <td>-0.007020</td>\n",
       "      <td>-0.103869</td>\n",
       "      <td>-0.283060</td>\n",
       "    </tr>\n",
       "    <tr>\n",
       "      <th>Market_time</th>\n",
       "      <td>0.017539</td>\n",
       "      <td>-0.065482</td>\n",
       "      <td>-0.352504</td>\n",
       "      <td>0.040064</td>\n",
       "      <td>0.076357</td>\n",
       "      <td>-0.563971</td>\n",
       "      <td>-0.220975</td>\n",
       "      <td>-0.121860</td>\n",
       "      <td>1.000000</td>\n",
       "      <td>-0.001166</td>\n",
       "      <td>-0.076604</td>\n",
       "      <td>0.078006</td>\n",
       "    </tr>\n",
       "    <tr>\n",
       "      <th>College_time</th>\n",
       "      <td>0.083148</td>\n",
       "      <td>0.020416</td>\n",
       "      <td>0.189642</td>\n",
       "      <td>-0.211170</td>\n",
       "      <td>0.007240</td>\n",
       "      <td>-0.740107</td>\n",
       "      <td>-0.058010</td>\n",
       "      <td>-0.007020</td>\n",
       "      <td>-0.001166</td>\n",
       "      <td>1.000000</td>\n",
       "      <td>0.060779</td>\n",
       "      <td>-0.015916</td>\n",
       "    </tr>\n",
       "    <tr>\n",
       "      <th>Avl_playground</th>\n",
       "      <td>0.344883</td>\n",
       "      <td>0.305170</td>\n",
       "      <td>0.098176</td>\n",
       "      <td>0.066562</td>\n",
       "      <td>0.167080</td>\n",
       "      <td>-0.050229</td>\n",
       "      <td>-0.182424</td>\n",
       "      <td>-0.103869</td>\n",
       "      <td>-0.076604</td>\n",
       "      <td>0.060779</td>\n",
       "      <td>1.000000</td>\n",
       "      <td>0.193495</td>\n",
       "    </tr>\n",
       "    <tr>\n",
       "      <th>Total_rent</th>\n",
       "      <td>0.751492</td>\n",
       "      <td>0.782882</td>\n",
       "      <td>0.318835</td>\n",
       "      <td>0.053153</td>\n",
       "      <td>0.845583</td>\n",
       "      <td>-0.095919</td>\n",
       "      <td>-0.224010</td>\n",
       "      <td>-0.283060</td>\n",
       "      <td>0.078006</td>\n",
       "      <td>-0.015916</td>\n",
       "      <td>0.193495</td>\n",
       "      <td>1.000000</td>\n",
       "    </tr>\n",
       "  </tbody>\n",
       "</table>\n",
       "</div>"
      ],
      "text/plain": [
       "                  Residence Score  Bathroom_score  Attached_Kitchen  \\\n",
       "Residence Score          1.000000        0.873785          0.261145   \n",
       "Bathroom_score           0.873785        1.000000          0.396308   \n",
       "Attached_Kitchen         0.261145        0.396308          1.000000   \n",
       "Avl_ShoppingMall        -0.014689        0.020434         -0.069410   \n",
       "Avl_beds                 0.809383        0.830659          0.280982   \n",
       "Rate_Transport          -0.143336       -0.042793          0.106454   \n",
       "Medical_Shops           -0.152374       -0.181056          0.170001   \n",
       "Mess_Avl                -0.246081       -0.231137          0.165091   \n",
       "Market_time              0.017539       -0.065482         -0.352504   \n",
       "College_time             0.083148        0.020416          0.189642   \n",
       "Avl_playground           0.344883        0.305170          0.098176   \n",
       "Total_rent               0.751492        0.782882          0.318835   \n",
       "\n",
       "                  Avl_ShoppingMall  Avl_beds  Rate_Transport  Medical_Shops  \\\n",
       "Residence Score          -0.014689  0.809383       -0.143336      -0.152374   \n",
       "Bathroom_score            0.020434  0.830659       -0.042793      -0.181056   \n",
       "Attached_Kitchen         -0.069410  0.280982        0.106454       0.170001   \n",
       "Avl_ShoppingMall          1.000000  0.084412        0.136555      -0.060737   \n",
       "Avl_beds                  0.084412  1.000000       -0.084038      -0.196082   \n",
       "Rate_Transport            0.136555 -0.084038        1.000000       0.250952   \n",
       "Medical_Shops            -0.060737 -0.196082        0.250952       1.000000   \n",
       "Mess_Avl                 -0.099793 -0.243645        0.178156       0.500336   \n",
       "Market_time               0.040064  0.076357       -0.563971      -0.220975   \n",
       "College_time             -0.211170  0.007240       -0.740107      -0.058010   \n",
       "Avl_playground            0.066562  0.167080       -0.050229      -0.182424   \n",
       "Total_rent                0.053153  0.845583       -0.095919      -0.224010   \n",
       "\n",
       "                  Mess_Avl  Market_time  College_time  Avl_playground  \\\n",
       "Residence Score  -0.246081     0.017539      0.083148        0.344883   \n",
       "Bathroom_score   -0.231137    -0.065482      0.020416        0.305170   \n",
       "Attached_Kitchen  0.165091    -0.352504      0.189642        0.098176   \n",
       "Avl_ShoppingMall -0.099793     0.040064     -0.211170        0.066562   \n",
       "Avl_beds         -0.243645     0.076357      0.007240        0.167080   \n",
       "Rate_Transport    0.178156    -0.563971     -0.740107       -0.050229   \n",
       "Medical_Shops     0.500336    -0.220975     -0.058010       -0.182424   \n",
       "Mess_Avl          1.000000    -0.121860     -0.007020       -0.103869   \n",
       "Market_time      -0.121860     1.000000     -0.001166       -0.076604   \n",
       "College_time     -0.007020    -0.001166      1.000000        0.060779   \n",
       "Avl_playground   -0.103869    -0.076604      0.060779        1.000000   \n",
       "Total_rent       -0.283060     0.078006     -0.015916        0.193495   \n",
       "\n",
       "                  Total_rent  \n",
       "Residence Score     0.751492  \n",
       "Bathroom_score      0.782882  \n",
       "Attached_Kitchen    0.318835  \n",
       "Avl_ShoppingMall    0.053153  \n",
       "Avl_beds            0.845583  \n",
       "Rate_Transport     -0.095919  \n",
       "Medical_Shops      -0.224010  \n",
       "Mess_Avl           -0.283060  \n",
       "Market_time         0.078006  \n",
       "College_time       -0.015916  \n",
       "Avl_playground      0.193495  \n",
       "Total_rent          1.000000  "
      ]
     },
     "execution_count": 22,
     "metadata": {},
     "output_type": "execute_result"
    }
   ],
   "source": [
    "df.corr()"
   ]
  },
  {
   "cell_type": "code",
   "execution_count": 23,
   "metadata": {
    "execution": {
     "iopub.status.busy": "2022-05-18T18:46:05.247318Z",
     "iopub.status.idle": "2022-05-18T18:46:05.247823Z",
     "shell.execute_reply": "2022-05-18T18:46:05.247662Z",
     "shell.execute_reply.started": "2022-05-18T18:46:05.247638Z"
    }
   },
   "outputs": [],
   "source": [
    "x_val=df.drop('Total_rent',axis=1)\n",
    "y_val=df['Total_rent']"
   ]
  },
  {
   "cell_type": "code",
   "execution_count": 24,
   "metadata": {
    "execution": {
     "iopub.status.busy": "2022-05-18T18:46:05.248791Z",
     "iopub.status.idle": "2022-05-18T18:46:05.24913Z",
     "shell.execute_reply": "2022-05-18T18:46:05.248967Z",
     "shell.execute_reply.started": "2022-05-18T18:46:05.248945Z"
    }
   },
   "outputs": [
    {
     "data": {
      "text/plain": [
       "Index(['Residence Score', 'Bathroom_score', 'Attached_Kitchen',\n",
       "       'Avl_ShoppingMall', 'Avl_beds', 'Rate_Transport', 'Medical_Shops',\n",
       "       'Mess_Avl', 'Market_time', 'College_time', 'Avl_playground'],\n",
       "      dtype='object')"
      ]
     },
     "execution_count": 24,
     "metadata": {},
     "output_type": "execute_result"
    }
   ],
   "source": [
    "x_val.columns"
   ]
  },
  {
   "cell_type": "code",
   "execution_count": 25,
   "metadata": {
    "execution": {
     "iopub.status.busy": "2022-05-18T18:46:05.25017Z",
     "iopub.status.idle": "2022-05-18T18:46:05.250486Z",
     "shell.execute_reply": "2022-05-18T18:46:05.250341Z",
     "shell.execute_reply.started": "2022-05-18T18:46:05.250323Z"
    }
   },
   "outputs": [
    {
     "name": "stdout",
     "output_type": "stream",
     "text": [
      "Residence Score------->[3 2 1 4]\n",
      "Bathroom_score------->[4 1 3 2 5]\n",
      "Attached_Kitchen------->[1 0]\n",
      "Avl_ShoppingMall------->[0 1]\n",
      "Avl_beds------->[4 1 2 3 5 6]\n",
      "Rate_Transport------->[4 5 2 3 1 0]\n",
      "Medical_Shops------->[0 1]\n",
      "Mess_Avl------->[3 4 2 7 1]\n",
      "Market_time------->[ 5 10 15]\n",
      "College_time------->[10  5 15 20]\n",
      "Avl_playground------->[1 0]\n"
     ]
    }
   ],
   "source": [
    "for i in range(len(x_val.columns)):\n",
    "    print(f'{x_val.columns[i]}------->{x_val[x_val.columns[i]].unique()}')"
   ]
  },
  {
   "cell_type": "code",
   "execution_count": 26,
   "metadata": {
    "execution": {
     "iopub.execute_input": "2022-05-18T18:46:05.261258Z",
     "iopub.status.busy": "2022-05-18T18:46:05.261013Z",
     "iopub.status.idle": "2022-05-18T18:46:05.278239Z",
     "shell.execute_reply": "2022-05-18T18:46:05.277029Z",
     "shell.execute_reply.started": "2022-05-18T18:46:05.261229Z"
    }
   },
   "outputs": [],
   "source": [
    "x_train,x_test,y_train,y_test=train_test_split(x_val,y_val,random_state=1,train_size=.9)"
   ]
  },
  {
   "cell_type": "code",
   "execution_count": 27,
   "metadata": {
    "execution": {
     "iopub.status.busy": "2022-05-18T18:46:05.279171Z",
     "iopub.status.idle": "2022-05-18T18:46:05.279916Z",
     "shell.execute_reply": "2022-05-18T18:46:05.279737Z",
     "shell.execute_reply.started": "2022-05-18T18:46:05.279716Z"
    }
   },
   "outputs": [
    {
     "data": {
      "text/plain": [
       "80"
      ]
     },
     "execution_count": 27,
     "metadata": {},
     "output_type": "execute_result"
    }
   ],
   "source": [
    "len(x_train)"
   ]
  },
  {
   "cell_type": "code",
   "execution_count": 28,
   "metadata": {
    "execution": {
     "iopub.status.busy": "2022-05-18T18:46:05.281047Z",
     "iopub.status.idle": "2022-05-18T18:46:05.281559Z",
     "shell.execute_reply": "2022-05-18T18:46:05.281396Z",
     "shell.execute_reply.started": "2022-05-18T18:46:05.281376Z"
    }
   },
   "outputs": [
    {
     "data": {
      "text/plain": [
       "80"
      ]
     },
     "execution_count": 28,
     "metadata": {},
     "output_type": "execute_result"
    }
   ],
   "source": [
    "len(y_train)"
   ]
  },
  {
   "cell_type": "code",
   "execution_count": 29,
   "metadata": {
    "execution": {
     "iopub.status.busy": "2022-05-18T18:46:05.282587Z",
     "iopub.status.idle": "2022-05-18T18:46:05.283116Z",
     "shell.execute_reply": "2022-05-18T18:46:05.28292Z",
     "shell.execute_reply.started": "2022-05-18T18:46:05.282901Z"
    }
   },
   "outputs": [
    {
     "data": {
      "text/plain": [
       "9"
      ]
     },
     "execution_count": 29,
     "metadata": {},
     "output_type": "execute_result"
    }
   ],
   "source": [
    "len(y_test)"
   ]
  },
  {
   "cell_type": "markdown",
   "metadata": {},
   "source": [
    "### model no 1 simple linear regression"
   ]
  },
  {
   "cell_type": "code",
   "execution_count": 30,
   "metadata": {
    "execution": {
     "iopub.status.busy": "2022-05-18T18:46:05.284098Z",
     "iopub.status.idle": "2022-05-18T18:46:05.284576Z",
     "shell.execute_reply": "2022-05-18T18:46:05.284426Z",
     "shell.execute_reply.started": "2022-05-18T18:46:05.284407Z"
    }
   },
   "outputs": [
    {
     "data": {
      "text/plain": [
       "LinearRegression()"
      ]
     },
     "execution_count": 30,
     "metadata": {},
     "output_type": "execute_result"
    }
   ],
   "source": [
    "model=LinearRegression()\n",
    "model.fit(x_train,y_train)"
   ]
  },
  {
   "cell_type": "code",
   "execution_count": 31,
   "metadata": {
    "execution": {
     "iopub.status.busy": "2022-05-18T18:46:05.285633Z",
     "iopub.status.idle": "2022-05-18T18:46:05.286137Z",
     "shell.execute_reply": "2022-05-18T18:46:05.285927Z",
     "shell.execute_reply.started": "2022-05-18T18:46:05.285892Z"
    }
   },
   "outputs": [
    {
     "data": {
      "text/html": [
       "<div>\n",
       "<style scoped>\n",
       "    .dataframe tbody tr th:only-of-type {\n",
       "        vertical-align: middle;\n",
       "    }\n",
       "\n",
       "    .dataframe tbody tr th {\n",
       "        vertical-align: top;\n",
       "    }\n",
       "\n",
       "    .dataframe thead th {\n",
       "        text-align: right;\n",
       "    }\n",
       "</style>\n",
       "<table border=\"1\" class=\"dataframe\">\n",
       "  <thead>\n",
       "    <tr style=\"text-align: right;\">\n",
       "      <th></th>\n",
       "      <th>Residence Score</th>\n",
       "      <th>Bathroom_score</th>\n",
       "      <th>Attached_Kitchen</th>\n",
       "      <th>Avl_ShoppingMall</th>\n",
       "      <th>Avl_beds</th>\n",
       "      <th>Rate_Transport</th>\n",
       "      <th>Medical_Shops</th>\n",
       "      <th>Mess_Avl</th>\n",
       "      <th>Market_time</th>\n",
       "      <th>College_time</th>\n",
       "      <th>Avl_playground</th>\n",
       "    </tr>\n",
       "  </thead>\n",
       "  <tbody>\n",
       "    <tr>\n",
       "      <th>60</th>\n",
       "      <td>1</td>\n",
       "      <td>2</td>\n",
       "      <td>0</td>\n",
       "      <td>1</td>\n",
       "      <td>2</td>\n",
       "      <td>1</td>\n",
       "      <td>1</td>\n",
       "      <td>3</td>\n",
       "      <td>10</td>\n",
       "      <td>15</td>\n",
       "      <td>1</td>\n",
       "    </tr>\n",
       "    <tr>\n",
       "      <th>70</th>\n",
       "      <td>1</td>\n",
       "      <td>2</td>\n",
       "      <td>1</td>\n",
       "      <td>1</td>\n",
       "      <td>2</td>\n",
       "      <td>4</td>\n",
       "      <td>1</td>\n",
       "      <td>3</td>\n",
       "      <td>5</td>\n",
       "      <td>10</td>\n",
       "      <td>0</td>\n",
       "    </tr>\n",
       "    <tr>\n",
       "      <th>53</th>\n",
       "      <td>1</td>\n",
       "      <td>1</td>\n",
       "      <td>0</td>\n",
       "      <td>1</td>\n",
       "      <td>2</td>\n",
       "      <td>4</td>\n",
       "      <td>1</td>\n",
       "      <td>4</td>\n",
       "      <td>10</td>\n",
       "      <td>5</td>\n",
       "      <td>0</td>\n",
       "    </tr>\n",
       "  </tbody>\n",
       "</table>\n",
       "</div>"
      ],
      "text/plain": [
       "    Residence Score  Bathroom_score  Attached_Kitchen  Avl_ShoppingMall  \\\n",
       "60                1               2                 0                 1   \n",
       "70                1               2                 1                 1   \n",
       "53                1               1                 0                 1   \n",
       "\n",
       "    Avl_beds  Rate_Transport  Medical_Shops  Mess_Avl  Market_time  \\\n",
       "60         2               1              1         3           10   \n",
       "70         2               4              1         3            5   \n",
       "53         2               4              1         4           10   \n",
       "\n",
       "    College_time  Avl_playground  \n",
       "60            15               1  \n",
       "70            10               0  \n",
       "53             5               0  "
      ]
     },
     "execution_count": 31,
     "metadata": {},
     "output_type": "execute_result"
    }
   ],
   "source": [
    "x_test.head(n=3)"
   ]
  },
  {
   "cell_type": "code",
   "execution_count": 32,
   "metadata": {
    "execution": {
     "iopub.status.busy": "2022-05-18T18:46:05.287072Z",
     "iopub.status.idle": "2022-05-18T18:46:05.287556Z",
     "shell.execute_reply": "2022-05-18T18:46:05.287369Z",
     "shell.execute_reply.started": "2022-05-18T18:46:05.287342Z"
    }
   },
   "outputs": [
    {
     "data": {
      "text/plain": [
       "60    3000\n",
       "70    3300\n",
       "53    3000\n",
       "Name: Total_rent, dtype: int64"
      ]
     },
     "execution_count": 32,
     "metadata": {},
     "output_type": "execute_result"
    }
   ],
   "source": [
    "y_test.head(n=3)"
   ]
  },
  {
   "cell_type": "code",
   "execution_count": 33,
   "metadata": {
    "execution": {
     "iopub.status.busy": "2022-05-18T18:46:05.288478Z",
     "iopub.status.idle": "2022-05-18T18:46:05.288954Z",
     "shell.execute_reply": "2022-05-18T18:46:05.288763Z",
     "shell.execute_reply.started": "2022-05-18T18:46:05.288736Z"
    }
   },
   "outputs": [
    {
     "name": "stdout",
     "output_type": "stream",
     "text": [
      "[ 177.18268075  181.69201097  581.85793818  -92.58109053  666.74663765\n",
      " -197.91401044  -54.17453274 -272.25568736   -5.888217    -77.28135561\n",
      " -174.1236801 ]\n",
      "3523.091208688835\n"
     ]
    }
   ],
   "source": [
    "print(model.coef_)\n",
    "print(model.intercept_)"
   ]
  },
  {
   "cell_type": "code",
   "execution_count": 34,
   "metadata": {
    "execution": {
     "iopub.status.busy": "2022-05-18T18:46:05.289904Z",
     "iopub.status.idle": "2022-05-18T18:46:05.290454Z",
     "shell.execute_reply": "2022-05-18T18:46:05.290261Z",
     "shell.execute_reply.started": "2022-05-18T18:46:05.290233Z"
    }
   },
   "outputs": [],
   "source": [
    "pred=model.predict(x_test)"
   ]
  },
  {
   "cell_type": "code",
   "execution_count": 35,
   "metadata": {
    "execution": {
     "iopub.status.busy": "2022-05-18T18:46:05.291415Z",
     "iopub.status.idle": "2022-05-18T18:46:05.291769Z",
     "shell.execute_reply": "2022-05-18T18:46:05.291616Z",
     "shell.execute_reply.started": "2022-05-18T18:46:05.291595Z"
    }
   },
   "outputs": [
    {
     "data": {
      "text/plain": [
       "-0.007888234872864164"
      ]
     },
     "execution_count": 35,
     "metadata": {},
     "output_type": "execute_result"
    }
   ],
   "source": [
    "r2_score(pred,y_test)"
   ]
  },
  {
   "cell_type": "code",
   "execution_count": 36,
   "metadata": {
    "execution": {
     "iopub.status.busy": "2022-05-18T18:46:05.293Z",
     "iopub.status.idle": "2022-05-18T18:46:05.293353Z",
     "shell.execute_reply": "2022-05-18T18:46:05.293187Z",
     "shell.execute_reply.started": "2022-05-18T18:46:05.293165Z"
    }
   },
   "outputs": [
    {
     "data": {
      "text/plain": [
       "1292.5894038937047"
      ]
     },
     "execution_count": 36,
     "metadata": {},
     "output_type": "execute_result"
    }
   ],
   "source": [
    "np.sqrt(mean_squared_error(pred,y_test))"
   ]
  },
  {
   "cell_type": "code",
   "execution_count": 37,
   "metadata": {
    "execution": {
     "iopub.status.busy": "2022-05-18T18:46:05.29651Z",
     "iopub.status.idle": "2022-05-18T18:46:05.296837Z",
     "shell.execute_reply": "2022-05-18T18:46:05.296685Z",
     "shell.execute_reply.started": "2022-05-18T18:46:05.296659Z"
    }
   },
   "outputs": [
    {
     "name": "stderr",
     "output_type": "stream",
     "text": [
      "c:\\users\\user\\appdata\\local\\programs\\python\\python39\\lib\\site-packages\\sklearn\\base.py:450: UserWarning: X does not have valid feature names, but LinearRegression was fitted with feature names\n",
      "  warnings.warn(\n"
     ]
    },
    {
     "data": {
      "text/plain": [
       "array([2843.48830661])"
      ]
     },
     "execution_count": 37,
     "metadata": {},
     "output_type": "execute_result"
    }
   ],
   "source": [
    "model.predict([[1,2,0,1,2,1,1,3,10,15,1]])"
   ]
  },
  {
   "cell_type": "code",
   "execution_count": 38,
   "metadata": {
    "execution": {
     "iopub.status.busy": "2022-05-18T18:46:05.298023Z",
     "iopub.status.idle": "2022-05-18T18:46:05.298509Z",
     "shell.execute_reply": "2022-05-18T18:46:05.298331Z",
     "shell.execute_reply.started": "2022-05-18T18:46:05.2983Z"
    }
   },
   "outputs": [
    {
     "name": "stderr",
     "output_type": "stream",
     "text": [
      "c:\\users\\user\\appdata\\local\\programs\\python\\python39\\lib\\site-packages\\sklearn\\base.py:450: UserWarning: X does not have valid feature names, but LinearRegression was fitted with feature names\n",
      "  warnings.warn(\n"
     ]
    },
    {
     "data": {
      "text/plain": [
       "array([3421.57575663])"
      ]
     },
     "execution_count": 38,
     "metadata": {},
     "output_type": "execute_result"
    }
   ],
   "source": [
    "model.predict([[1,2,1,1,2,4,1,3,5,10,0]])"
   ]
  },
  {
   "cell_type": "code",
   "execution_count": 39,
   "metadata": {
    "execution": {
     "iopub.status.busy": "2022-05-18T18:46:05.299435Z",
     "iopub.status.idle": "2022-05-18T18:46:05.29992Z",
     "shell.execute_reply": "2022-05-18T18:46:05.299721Z",
     "shell.execute_reply.started": "2022-05-18T18:46:05.299694Z"
    }
   },
   "outputs": [
    {
     "name": "stderr",
     "output_type": "stream",
     "text": [
      "c:\\users\\user\\appdata\\local\\programs\\python\\python39\\lib\\site-packages\\seaborn\\distributions.py:2619: FutureWarning: `distplot` is a deprecated function and will be removed in a future version. Please adapt your code to use either `displot` (a figure-level function with similar flexibility) or `histplot` (an axes-level function for histograms).\n",
      "  warnings.warn(msg, FutureWarning)\n"
     ]
    },
    {
     "data": {
      "text/plain": [
       "<AxesSubplot:xlabel='Total_rent', ylabel='Density'>"
      ]
     },
     "execution_count": 39,
     "metadata": {},
     "output_type": "execute_result"
    },
    {
     "data": {
      "image/png": "[encoded data removed]",
      "text/plain": [
       "<Figure size 432x288 with 1 Axes>"
      ]
     },
     "metadata": {
      "needs_background": "light"
     },
     "output_type": "display_data"
    }
   ],
   "source": [
    "sn.distplot(y_test-pred)"
   ]
  },
  {
   "cell_type": "markdown",
   "metadata": {},
   "source": [
    "### model no 2 adaboost regressor"
   ]
  },
  {
   "cell_type": "code",
   "execution_count": 40,
   "metadata": {
    "execution": {
     "iopub.status.busy": "2022-05-18T18:46:05.300854Z",
     "iopub.status.idle": "2022-05-18T18:46:05.30136Z",
     "shell.execute_reply": "2022-05-18T18:46:05.301153Z",
     "shell.execute_reply.started": "2022-05-18T18:46:05.301126Z"
    }
   },
   "outputs": [
    {
     "data": {
      "text/plain": [
       "AdaBoostRegressor(learning_rate=0.1, n_estimators=45)"
      ]
     },
     "execution_count": 40,
     "metadata": {},
     "output_type": "execute_result"
    }
   ],
   "source": [
    "model2=AdaBoostRegressor(n_estimators=45,learning_rate=.1)\n",
    "model2.fit(x_train,y_train)\n",
    "\n"
   ]
  },
  {
   "cell_type": "code",
   "execution_count": 41,
   "metadata": {
    "execution": {
     "iopub.status.busy": "2022-05-18T18:46:05.302276Z",
     "iopub.status.idle": "2022-05-18T18:46:05.302765Z",
     "shell.execute_reply": "2022-05-18T18:46:05.302573Z",
     "shell.execute_reply.started": "2022-05-18T18:46:05.302546Z"
    }
   },
   "outputs": [
    {
     "name": "stderr",
     "output_type": "stream",
     "text": [
      "c:\\users\\user\\appdata\\local\\programs\\python\\python39\\lib\\site-packages\\sklearn\\base.py:450: UserWarning: X does not have valid feature names, but AdaBoostRegressor was fitted with feature names\n",
      "  warnings.warn(\n"
     ]
    },
    {
     "data": {
      "text/plain": [
       "array([3100.])"
      ]
     },
     "execution_count": 41,
     "metadata": {},
     "output_type": "execute_result"
    }
   ],
   "source": [
    "model2.predict([[1,2,1,1,2,4,1,3,5,10,0]])"
   ]
  },
  {
   "cell_type": "code",
   "execution_count": 42,
   "metadata": {
    "execution": {
     "iopub.status.busy": "2022-05-18T18:46:05.303655Z",
     "iopub.status.idle": "2022-05-18T18:46:05.304149Z",
     "shell.execute_reply": "2022-05-18T18:46:05.303929Z",
     "shell.execute_reply.started": "2022-05-18T18:46:05.303904Z"
    }
   },
   "outputs": [
    {
     "data": {
      "text/plain": [
       "0.7542462870625136"
      ]
     },
     "execution_count": 42,
     "metadata": {},
     "output_type": "execute_result"
    }
   ],
   "source": [
    "cross_val_score(AdaBoostRegressor(n_estimators=45,learning_rate=.1),x_train,y_train,cv=3).mean()"
   ]
  },
  {
   "cell_type": "markdown",
   "metadata": {},
   "source": [
    "### model no 3 gradient boost regressor"
   ]
  },
  {
   "cell_type": "code",
   "execution_count": 43,
   "metadata": {
    "execution": {
     "iopub.status.busy": "2022-05-18T18:46:05.305074Z",
     "iopub.status.idle": "2022-05-18T18:46:05.305558Z",
     "shell.execute_reply": "2022-05-18T18:46:05.305375Z",
     "shell.execute_reply.started": "2022-05-18T18:46:05.305345Z"
    }
   },
   "outputs": [
    {
     "data": {
      "text/plain": [
       "GradientBoostingRegressor(n_estimators=45)"
      ]
     },
     "execution_count": 43,
     "metadata": {},
     "output_type": "execute_result"
    }
   ],
   "source": [
    "model3=GradientBoostingRegressor(n_estimators=45,learning_rate=.1)\n",
    "model3.fit(x_train,y_train)"
   ]
  },
  {
   "cell_type": "code",
   "execution_count": 44,
   "metadata": {
    "execution": {
     "iopub.status.busy": "2022-05-18T18:46:05.306443Z",
     "iopub.status.idle": "2022-05-18T18:46:05.306777Z",
     "shell.execute_reply": "2022-05-18T18:46:05.30663Z",
     "shell.execute_reply.started": "2022-05-18T18:46:05.306608Z"
    }
   },
   "outputs": [
    {
     "name": "stderr",
     "output_type": "stream",
     "text": [
      "c:\\users\\user\\appdata\\local\\programs\\python\\python39\\lib\\site-packages\\sklearn\\base.py:450: UserWarning: X does not have valid feature names, but GradientBoostingRegressor was fitted with feature names\n",
      "  warnings.warn(\n"
     ]
    },
    {
     "data": {
      "text/plain": [
       "array([3013.46579145])"
      ]
     },
     "execution_count": 44,
     "metadata": {},
     "output_type": "execute_result"
    }
   ],
   "source": [
    "model3.predict([[1,2,1,1,2,4,1,3,5,10,0]])"
   ]
  },
  {
   "cell_type": "code",
   "execution_count": 45,
   "metadata": {
    "execution": {
     "iopub.status.busy": "2022-05-18T18:46:05.308113Z",
     "iopub.status.idle": "2022-05-18T18:46:05.308832Z",
     "shell.execute_reply": "2022-05-18T18:46:05.308647Z",
     "shell.execute_reply.started": "2022-05-18T18:46:05.30862Z"
    }
   },
   "outputs": [
    {
     "data": {
      "text/plain": [
       "0.7404158585964596"
      ]
     },
     "execution_count": 45,
     "metadata": {},
     "output_type": "execute_result"
    }
   ],
   "source": [
    "cross_val_score(GradientBoostingRegressor(n_estimators=45,learning_rate=.1),x_train,y_train,cv=3).mean()"
   ]
  },
  {
   "cell_type": "markdown",
   "metadata": {},
   "source": [
    "#### model no 4 Random Forest Regressor"
   ]
  },
  {
   "cell_type": "code",
   "execution_count": 46,
   "metadata": {
    "execution": {
     "iopub.status.busy": "2022-05-18T18:46:05.309777Z",
     "iopub.status.idle": "2022-05-18T18:46:05.310337Z",
     "shell.execute_reply": "2022-05-18T18:46:05.310156Z",
     "shell.execute_reply.started": "2022-05-18T18:46:05.310132Z"
    }
   },
   "outputs": [
    {
     "data": {
      "text/plain": [
       "RandomForestRegressor(n_estimators=63)"
      ]
     },
     "execution_count": 46,
     "metadata": {},
     "output_type": "execute_result"
    }
   ],
   "source": [
    "model4=RandomForestRegressor(n_estimators=63)\n",
    "model4.fit(x_train,y_train)"
   ]
  },
  {
   "cell_type": "code",
   "execution_count": 47,
   "metadata": {
    "execution": {
     "iopub.status.busy": "2022-05-18T18:46:05.311414Z",
     "iopub.status.idle": "2022-05-18T18:46:05.312107Z",
     "shell.execute_reply": "2022-05-18T18:46:05.311891Z",
     "shell.execute_reply.started": "2022-05-18T18:46:05.311863Z"
    }
   },
   "outputs": [
    {
     "name": "stderr",
     "output_type": "stream",
     "text": [
      "c:\\users\\user\\appdata\\local\\programs\\python\\python39\\lib\\site-packages\\sklearn\\base.py:450: UserWarning: X does not have valid feature names, but RandomForestRegressor was fitted with feature names\n",
      "  warnings.warn(\n"
     ]
    },
    {
     "data": {
      "text/plain": [
       "array([3055.55555556])"
      ]
     },
     "execution_count": 47,
     "metadata": {},
     "output_type": "execute_result"
    }
   ],
   "source": [
    "model4.predict([[1,2,1,1,2,4,1,3,5,10,0]])"
   ]
  },
  {
   "cell_type": "code",
   "execution_count": 48,
   "metadata": {
    "execution": {
     "iopub.status.busy": "2022-05-18T18:46:05.313483Z",
     "iopub.status.idle": "2022-05-18T18:46:05.313802Z",
     "shell.execute_reply": "2022-05-18T18:46:05.313652Z",
     "shell.execute_reply.started": "2022-05-18T18:46:05.31363Z"
    }
   },
   "outputs": [
    {
     "data": {
      "text/plain": [
       "0.7983456285838892"
      ]
     },
     "execution_count": 48,
     "metadata": {},
     "output_type": "execute_result"
    }
   ],
   "source": [
    "cross_val_score(RandomForestRegressor(n_estimators=63),x_train,y_train,cv=3).mean()"
   ]
  },
  {
   "cell_type": "markdown",
   "metadata": {},
   "source": [
    "### Model no 5 xgboost regressor"
   ]
  },
  {
   "cell_type": "code",
   "execution_count": 49,
   "metadata": {
    "execution": {
     "iopub.status.busy": "2022-05-18T18:46:05.31483Z",
     "iopub.status.idle": "2022-05-18T18:46:05.315429Z",
     "shell.execute_reply": "2022-05-18T18:46:05.315256Z",
     "shell.execute_reply.started": "2022-05-18T18:46:05.315228Z"
    }
   },
   "outputs": [
    {
     "name": "stdout",
     "output_type": "stream",
     "text": [
      "[00:47:28] WARNING: C:/Users/Administrator/workspace/xgboost-win64_release_1.6.0/src/learner.cc:627: \n",
      "Parameters: { \"max_depth\", \"min_child_weight\" } might not be used.\n",
      "\n",
      "  This could be a false alarm, with some parameters getting used by language bindings but\n",
      "  then being mistakenly passed down to XGBoost core, or some parameter actually being used\n",
      "  but getting flagged wrongly here. Please open an issue if you find any such cases.\n",
      "\n",
      "\n",
      "[0]\tvalidation_0-rmse:1901.10632\n",
      "[1]\tvalidation_0-rmse:1242.79508\n",
      "[2]\tvalidation_0-rmse:1115.25057\n",
      "[3]\tvalidation_0-rmse:1080.19912\n",
      "[4]\tvalidation_0-rmse:1064.42230\n",
      "[5]\tvalidation_0-rmse:1055.57698\n",
      "[6]\tvalidation_0-rmse:1048.10714\n",
      "[7]\tvalidation_0-rmse:1043.31796\n",
      "[8]\tvalidation_0-rmse:1040.33519\n",
      "[9]\tvalidation_0-rmse:1039.62904\n",
      "[10]\tvalidation_0-rmse:1041.06915\n",
      "[11]\tvalidation_0-rmse:1041.50544\n",
      "[12]\tvalidation_0-rmse:1044.91062\n",
      "[13]\tvalidation_0-rmse:1047.71159\n",
      "[14]\tvalidation_0-rmse:1050.25426\n",
      "[15]\tvalidation_0-rmse:1051.91619\n",
      "[16]\tvalidation_0-rmse:1055.04705\n",
      "[17]\tvalidation_0-rmse:1055.64836\n",
      "[18]\tvalidation_0-rmse:1057.60278\n"
     ]
    },
    {
     "name": "stderr",
     "output_type": "stream",
     "text": [
      "c:\\users\\user\\appdata\\local\\programs\\python\\python39\\lib\\site-packages\\xgboost\\sklearn.py:793: UserWarning: `early_stopping_rounds` in `fit` method is deprecated for better compatibility with scikit-learn, use `early_stopping_rounds` in constructor or`set_params` instead.\n",
      "  warnings.warn(\n"
     ]
    },
    {
     "data": {
      "text/plain": [
       "XGBRegressor(base_score=0.5, booster='gblinear', callbacks=None,\n",
       "             colsample_bylevel=None, colsample_bynode=None,\n",
       "             colsample_bytree=None, early_stopping_rounds=None,\n",
       "             enable_categorical=False, eval_metric=None, gamma=None, gpu_id=-1,\n",
       "             grow_policy=None, importance_type=None,\n",
       "             interaction_constraints=None, learning_rate=0.1, max_bin=None,\n",
       "             max_cat_to_onehot=None, max_delta_step=None, max_depth=7,\n",
       "             max_leaves=None, min_child_weight=5, missing=nan,\n",
       "             monotone_constraints=None, n_estimators=50, n_jobs=0,\n",
       "             num_parallel_tree=None, predictor=None, random_state=0,\n",
       "             reg_alpha=0, reg_lambda=0, ...)"
      ]
     },
     "execution_count": 49,
     "metadata": {},
     "output_type": "execute_result"
    }
   ],
   "source": [
    "model5=XGBRegressor(\n",
    "                max_depth=7,\n",
    "               learning_rate=.1,\n",
    "               min_child_weight =5,\n",
    "                booster='gblinear',\n",
    "              n_estimators=50)\n",
    "model5.fit(x_train,y_train,early_stopping_rounds=10,eval_set=[(x_test,y_test)])\n"
   ]
  },
  {
   "cell_type": "code",
   "execution_count": 50,
   "metadata": {
    "execution": {
     "iopub.status.busy": "2022-05-18T18:46:05.316547Z",
     "iopub.status.idle": "2022-05-18T18:46:05.317157Z",
     "shell.execute_reply": "2022-05-18T18:46:05.316956Z",
     "shell.execute_reply.started": "2022-05-18T18:46:05.316932Z"
    }
   },
   "outputs": [
    {
     "name": "stdout",
     "output_type": "stream",
     "text": [
      "[575.054]\n",
      "[ 3.79559e+02  2.65160e+02  4.50432e+02  3.47978e+02  3.07967e+02\n",
      "  8.03048e+00 -8.66553e+01  3.74715e-01  4.05508e+01  9.83834e+00\n",
      "  1.28828e+02]\n"
     ]
    }
   ],
   "source": [
    "print(model5.intercept_)\n",
    "print(model5.coef_)"
   ]
  },
  {
   "cell_type": "code",
   "execution_count": 51,
   "metadata": {
    "execution": {
     "iopub.status.busy": "2022-05-18T18:46:05.318315Z",
     "iopub.status.idle": "2022-05-18T18:46:05.318758Z",
     "shell.execute_reply": "2022-05-18T18:46:05.318585Z",
     "shell.execute_reply.started": "2022-05-18T18:46:05.318565Z"
    }
   },
   "outputs": [
    {
     "data": {
      "text/plain": [
       "[1, 2, 0, 1, 2, 1, 1, 3, 10, 15, 1]"
      ]
     },
     "execution_count": 51,
     "metadata": {},
     "output_type": "execute_result"
    }
   ],
   "source": [
    "[1,2,0,1,2,1,1,3,10,15,1]"
   ]
  },
  {
   "cell_type": "code",
   "execution_count": 52,
   "metadata": {
    "execution": {
     "iopub.execute_input": "2022-05-18T18:46:05.46948Z",
     "iopub.status.busy": "2022-05-18T18:46:05.468743Z",
     "iopub.status.idle": "2022-05-18T18:46:05.488295Z",
     "shell.execute_reply": "2022-05-18T18:46:05.487152Z",
     "shell.execute_reply.started": "2022-05-18T18:46:05.469434Z"
    }
   },
   "outputs": [],
   "source": [
    "y_pred=model5.predict(x_test)"
   ]
  },
  {
   "cell_type": "code",
   "execution_count": 53,
   "metadata": {
    "execution": {
     "iopub.status.busy": "2022-05-18T18:46:05.489183Z",
     "iopub.status.idle": "2022-05-18T18:46:05.489786Z",
     "shell.execute_reply": "2022-05-18T18:46:05.489611Z",
     "shell.execute_reply.started": "2022-05-18T18:46:05.489589Z"
    }
   },
   "outputs": [
    {
     "data": {
      "text/plain": [
       "0.3290620791436376"
      ]
     },
     "execution_count": 53,
     "metadata": {},
     "output_type": "execute_result"
    }
   ],
   "source": [
    "r2_score(y_pred,y_test)"
   ]
  },
  {
   "cell_type": "code",
   "execution_count": 54,
   "metadata": {
    "execution": {
     "iopub.status.busy": "2022-05-18T18:46:05.490863Z",
     "iopub.status.idle": "2022-05-18T18:46:05.491182Z",
     "shell.execute_reply": "2022-05-18T18:46:05.491031Z",
     "shell.execute_reply.started": "2022-05-18T18:46:05.491015Z"
    }
   },
   "outputs": [
    {
     "data": {
      "text/plain": [
       "1059.8511380529824"
      ]
     },
     "execution_count": 54,
     "metadata": {},
     "output_type": "execute_result"
    }
   ],
   "source": [
    "np.sqrt(mean_squared_error(y_pred,y_test))"
   ]
  },
  {
   "cell_type": "markdown",
   "metadata": {},
   "source": [
    "Residence Score------->[3 2 1 4]\n",
    "Bathroom_score------->[4 1 3 2 5]\n",
    "Attached_Kitchen------->[1 0]\n",
    "Avl_ShoppingMall------->[0 1]\n",
    "Avl_beds------->[4 1 2 3 5 6]\n",
    "Rate_Transport------->[4 5 2 3 1 0]\n",
    "Medical_Shops------->[0 1]\n",
    "Mess_Avl------->[3 4 2 7 1]\n",
    "Market_time------->[ 5 10 15]\n",
    "College_time------->[10  5 15 20]\n",
    "Avl_playground------->[1 0]"
   ]
  },
  {
   "cell_type": "code",
   "execution_count": 55,
   "metadata": {
    "execution": {
     "iopub.status.busy": "2022-05-18T18:46:05.492326Z",
     "iopub.status.idle": "2022-05-18T18:46:05.492619Z",
     "shell.execute_reply": "2022-05-18T18:46:05.492481Z",
     "shell.execute_reply.started": "2022-05-18T18:46:05.492466Z"
    }
   },
   "outputs": [],
   "source": [
    "import math"
   ]
  },
  {
   "cell_type": "markdown",
   "metadata": {},
   "source": [
    " a=float(input(\" Residence Score:\"))\n",
    "    b=float(input(\"Bathroom_score:\"))\n",
    "    c=float(input(\"Attached_Kitchen':\"))\n",
    "    d=float(input(\"Avl_ShoppingMall:\"))\n",
    "    e=float(input(\"Avl_beds:\"))\n",
    "    f=float(input(\"Rate_Transport:\"))\n",
    "    g=float(input(\"Medical_Shops:\"))\n",
    "    h=float(input(\"Mess_Avl:\"))\n",
    "    i=float(input(\"Market_time:\"))\n",
    "    j=float(input(\"College_time:\"))\n",
    "    k=float(input(\"Avl_playground:\"))"
   ]
  },
  {
   "cell_type": "code",
   "execution_count": 56,
   "metadata": {
    "execution": {
     "iopub.status.busy": "2022-05-18T18:46:05.493455Z",
     "iopub.status.idle": "2022-05-18T18:46:05.493738Z",
     "shell.execute_reply": "2022-05-18T18:46:05.493601Z",
     "shell.execute_reply.started": "2022-05-18T18:46:05.493586Z"
    }
   },
   "outputs": [
    {
     "name": "stdout",
     "output_type": "stream",
     "text": [
      "The predicted price of the house rent is Rs. 3147\n",
      "The predicted price of the house rent is Rs. 3053\n"
     ]
    }
   ],
   "source": [
    "def predict_houseprice(a,b,c,d,e,f,g,h,i,j,k):\n",
    "    a1=a*model5.coef_[0]\n",
    "    b1=b*model5.coef_[1]\n",
    "    c1=c*model5.coef_[2]\n",
    "    d1=d*model5.coef_[3]\n",
    "    e1=e*model5.coef_[4]\n",
    "    f1=f*model5.coef_[5]\n",
    "    g1=g*model5.coef_[6]\n",
    "    h1=h*model5.coef_[7]\n",
    "    i1=i*model5.coef_[8]\n",
    "    j1=j*model5.coef_[9]\n",
    "    k1=k*model5.coef_[10]\n",
    "    print( f\"The predicted price of the house rent is Rs. {math.floor(a1+b1+c1+d1+e1+f1+g1+h1+i1+j1+k1+model5.intercept_)}\")\n",
    "if __name__==\"__main__\":\n",
    "    predict_houseprice(1,2,1,1,2,4,1,3,5,10,0)\n",
    "    predict_houseprice(1,2,0,1,2,1,1,3,10,15,1)"
   ]
  },
  {
   "cell_type": "code",
   "execution_count": 57,
   "metadata": {
    "execution": {
     "iopub.status.busy": "2022-05-18T18:46:05.494689Z",
     "iopub.status.idle": "2022-05-18T18:46:05.495029Z",
     "shell.execute_reply": "2022-05-18T18:46:05.49486Z",
     "shell.execute_reply.started": "2022-05-18T18:46:05.494844Z"
    }
   },
   "outputs": [
    {
     "name": "stderr",
     "output_type": "stream",
     "text": [
      "c:\\users\\user\\appdata\\local\\programs\\python\\python39\\lib\\site-packages\\seaborn\\distributions.py:2619: FutureWarning: `distplot` is a deprecated function and will be removed in a future version. Please adapt your code to use either `displot` (a figure-level function with similar flexibility) or `histplot` (an axes-level function for histograms).\n",
      "  warnings.warn(msg, FutureWarning)\n"
     ]
    },
    {
     "data": {
      "text/plain": [
       "<AxesSubplot:xlabel='Total_rent', ylabel='Density'>"
      ]
     },
     "execution_count": 57,
     "metadata": {},
     "output_type": "execute_result"
    },
    {
     "data": {
      "image/png": "[encoded data removed]",
      "text/plain": [
       "<Figure size 720x504 with 1 Axes>"
      ]
     },
     "metadata": {
      "needs_background": "light"
     },
     "output_type": "display_data"
    }
   ],
   "source": [
    "plt.figure(figsize=(10,7))\n",
    "sn.distplot(y_pred-y_test)"
   ]
  },
  {
   "cell_type": "code",
   "execution_count": null,
   "metadata": {},
   "outputs": [],
   "source": []
  }
 ],
 "metadata": {
  "kernelspec": {
   "display_name": "Python 3",
   "language": "python",
   "name": "python3"
  },
  "language_info": {
   "codemirror_mode": {
    "name": "ipython",
    "version": 3
   },
   "file_extension": ".py",
   "mimetype": "text/x-python",
   "name": "python",
   "nbconvert_exporter": "python",
   "pygments_lexer": "ipython3",
   "version": "3.9.5"
  }
 },
 "nbformat": 4,
 "nbformat_minor": 4
}
